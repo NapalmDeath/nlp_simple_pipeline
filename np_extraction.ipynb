{
 "cells": [
  {
   "cell_type": "code",
   "execution_count": 1,
   "metadata": {},
   "outputs": [],
   "source": [
    "from navec import Navec\n",
    "from slovnet import NER\n",
    "from ipymarkup import show_span_box_markup as show_span_markup, show_dep_ascii_markup as show_dep_markup\n",
    "from slovnet import Morph, Syntax\n",
    "from razdel import sentenize, tokenize\n",
    "\n",
    "from yargy import Parser, rule, and_, not_, or_\n",
    "from yargy.interpretation import fact\n",
    "from yargy.predicates import gram, tag\n",
    "from yargy.relations import gnc_relation\n",
    "from yargy.pipelines import morph_pipeline"
   ]
  },
  {
   "cell_type": "code",
   "execution_count": 23,
   "metadata": {},
   "outputs": [],
   "source": [
    "text = 'Заключенные ИК-2 рассказали, что Навального привезли в колонию. «Приемку этапа» провели строго по правилам внутреннего распорядка и никого не били. Теперь заключенные опасаются, что из-за Навального режим ужесточат, а «жизнь в заключении наладилась».'"
   ]
  },
  {
   "cell_type": "code",
   "execution_count": 24,
   "metadata": {},
   "outputs": [
    {
     "name": "stdout",
     "output_type": "stream",
     "text": [
      "load: ok\n"
     ]
    }
   ],
   "source": [
    "navec = Navec.load('./data/navec_news_v1_1B_250K_300d_100q.tar')\n",
    "\n",
    "ner = NER.load('./data/slovnet_ner_news_v1.tar')\n",
    "morph = Morph.load('./data/slovnet_morph_news_v1.tar', batch_size=4)\n",
    "syntax = Syntax.load('./data/slovnet_syntax_news_v1.tar')\n",
    "\n",
    "ner.navec(navec)\n",
    "morph.navec(navec)\n",
    "syntax.navec(navec)\n",
    "\n",
    "print(\"load: ok\")"
   ]
  },
  {
   "cell_type": "code",
   "execution_count": 25,
   "metadata": {},
   "outputs": [],
   "source": [
    "markup = ner(text)"
   ]
  },
  {
   "cell_type": "code",
   "execution_count": 26,
   "metadata": {},
   "outputs": [
    {
     "data": {
      "text/html": [
       "<div class=\"tex2jax_ignore\" style=\"white-space: pre-wrap\">Заключенные <span style=\"padding: 2px; border-radius: 4px; border: 1px solid #bbdefb; background: #e3f2fd\">ИК-2<span style=\"vertical-align: middle; margin-left: 2px; font-size: 0.7em; color: #64b5f6;\">ORG</span></span> рассказали, что <span style=\"padding: 2px; border-radius: 4px; border: 1px solid #c8e6c9; background: #e8f5e9\">Навального<span style=\"vertical-align: middle; margin-left: 2px; font-size: 0.7em; color: #66bb6a;\">PER</span></span> привезли в колонию. «Приемку этапа» провели строго по правилам внутреннего распорядка и никого не били. Теперь заключенные опасаются, что из-за <span style=\"padding: 2px; border-radius: 4px; border: 1px solid #c8e6c9; background: #e8f5e9\">Навального<span style=\"vertical-align: middle; margin-left: 2px; font-size: 0.7em; color: #66bb6a;\">PER</span></span> режим ужесточат, а «жизнь в заключении наладилась».</div>"
      ],
      "text/plain": [
       "<IPython.core.display.HTML object>"
      ]
     },
     "metadata": {},
     "output_type": "display_data"
    },
    {
     "data": {
      "text/plain": [
       "[Span(\n",
       "     start=12,\n",
       "     stop=16,\n",
       "     type='ORG'\n",
       " ),\n",
       " Span(\n",
       "     start=33,\n",
       "     stop=43,\n",
       "     type='PER'\n",
       " ),\n",
       " Span(\n",
       "     start=188,\n",
       "     stop=198,\n",
       "     type='PER'\n",
       " )]"
      ]
     },
     "execution_count": 26,
     "metadata": {},
     "output_type": "execute_result"
    }
   ],
   "source": [
    "show_span_markup(markup.text, markup.spans)\n",
    "markup.spans"
   ]
  },
  {
   "cell_type": "code",
   "execution_count": 27,
   "metadata": {},
   "outputs": [],
   "source": [
    "chunk = []\n",
    "for sent in sentenize(text):\n",
    "    tokens = [_.text for _ in tokenize(sent.text)]\n",
    "    chunk.append(tokens)"
   ]
  },
  {
   "cell_type": "code",
   "execution_count": 31,
   "metadata": {},
   "outputs": [
    {
     "data": {
      "text/plain": [
       "[['Заключенные',\n",
       "  'ИК-2',\n",
       "  'рассказали',\n",
       "  ',',\n",
       "  'что',\n",
       "  'Навального',\n",
       "  'привезли',\n",
       "  'в',\n",
       "  'колонию',\n",
       "  '.'],\n",
       " ['«',\n",
       "  'Приемку',\n",
       "  'этапа',\n",
       "  '»',\n",
       "  'провели',\n",
       "  'строго',\n",
       "  'по',\n",
       "  'правилам',\n",
       "  'внутреннего',\n",
       "  'распорядка',\n",
       "  'и',\n",
       "  'никого',\n",
       "  'не',\n",
       "  'били',\n",
       "  '.'],\n",
       " ['Теперь',\n",
       "  'заключенные',\n",
       "  'опасаются',\n",
       "  ',',\n",
       "  'что',\n",
       "  'из-за',\n",
       "  'Навального',\n",
       "  'режим',\n",
       "  'ужесточат',\n",
       "  ',',\n",
       "  'а',\n",
       "  '«',\n",
       "  'жизнь',\n",
       "  'в',\n",
       "  'заключении',\n",
       "  'наладилась',\n",
       "  '»',\n",
       "  '.']]"
      ]
     },
     "execution_count": 31,
     "metadata": {},
     "output_type": "execute_result"
    }
   ],
   "source": [
    "chunk"
   ]
  },
  {
   "cell_type": "code",
   "execution_count": 32,
   "metadata": {},
   "outputs": [
    {
     "name": "stdout",
     "output_type": "stream",
     "text": [
      "         Заключенные NOUN|Animacy=Anim|Case=Nom|Gender=Masc|Number=Plur\n",
      "                ИК-2 PROPN|Foreign=Yes\n",
      "          рассказали VERB|Aspect=Perf|Mood=Ind|Number=Plur|Tense=Past|VerbForm=Fin|Voice=Act\n",
      "                   , PUNCT\n",
      "                 что SCONJ\n",
      "          Навального PROPN|Animacy=Anim|Case=Acc|Gender=Masc|Number=Sing\n",
      "            привезли VERB|Aspect=Perf|Mood=Ind|Number=Plur|Tense=Past|VerbForm=Fin|Voice=Act\n",
      "                   в ADP\n",
      "             колонию NOUN|Animacy=Inan|Case=Acc|Gender=Fem|Number=Sing\n",
      "                   . PUNCT\n"
     ]
    }
   ],
   "source": [
    "sent = chunk[0]\n",
    "markup = morph(sent)\n",
    "for token in markup.tokens:\n",
    "    print(f'{token.text:>20} {token.tag}')"
   ]
  },
  {
   "cell_type": "code",
   "execution_count": 34,
   "metadata": {},
   "outputs": [],
   "source": [
    "markup = syntax(sent)"
   ]
  },
  {
   "cell_type": "code",
   "execution_count": 35,
   "metadata": {},
   "outputs": [
    {
     "data": {
      "text/plain": [
       "SyntaxToken(\n",
       "    id='1',\n",
       "    text='Заключенные',\n",
       "    head_id='3',\n",
       "    rel='nsubj'\n",
       ")"
      ]
     },
     "execution_count": 35,
     "metadata": {},
     "output_type": "execute_result"
    }
   ],
   "source": [
    "markup.tokens[0]"
   ]
  },
  {
   "cell_type": "code",
   "execution_count": 36,
   "metadata": {},
   "outputs": [],
   "source": [
    "words, deps = [], []\n",
    "for token in markup.tokens:\n",
    "    words.append(token.text)\n",
    "    source = int(token.head_id) - 1\n",
    "    target = int(token.id) - 1\n",
    "    if source > 0 and source != target:  # skip root, loops\n",
    "        deps.append([source, target, token.rel])"
   ]
  },
  {
   "cell_type": "code",
   "execution_count": 10,
   "metadata": {},
   "outputs": [
    {
     "name": "stdout",
     "output_type": "stream",
     "text": [
      "        ┌► Заключенные nsubj\n",
      "        │  ИК-2        \n",
      "┌─┌─────└─ рассказали  \n",
      "│ │ ┌────► ,           punct\n",
      "│ │ │ ┌──► что         mark\n",
      "│ │ │ │ ┌► Навального  obj\n",
      "│ └►└─└─└─ привезли    ccomp\n",
      "│   │   ┌► в           case\n",
      "│   └──►└─ колонию     obl\n",
      "└────────► .           punct\n"
     ]
    }
   ],
   "source": [
    "show_dep_markup(words, deps)"
   ]
  },
  {
   "cell_type": "code",
   "execution_count": 11,
   "metadata": {},
   "outputs": [],
   "source": [
    "def show_matches(rule, *lines):\n",
    "    parser = Parser(rule)\n",
    "    for line in lines:\n",
    "        matches = parser.findall(line)\n",
    "        spans = [_.span for _ in matches]\n",
    "        show_span_markup(line, spans)"
   ]
  },
  {
   "cell_type": "code",
   "execution_count": 12,
   "metadata": {},
   "outputs": [],
   "source": [
    "INT = type('INT')\n",
    "N = gram('NOUN')\n",
    "ADJF = gram('ADJF')\n",
    "ABBR = gram('Abbr')\n",
    "\n",
    "NOUN = and_(\n",
    "    N,\n",
    "    not_(ABBR)\n",
    ")\n",
    "\n",
    "gnc = gnc_relation()\n",
    "\n",
    "CONCEPT = fact('Concept', ['text'])\n",
    "\n",
    "NP = rule(\n",
    "    ADJF.optional().repeatable().match(gnc),\n",
    "    NOUN.repeatable().match(gnc)\n",
    ").interpretation(CONCEPT.text.inflected())"
   ]
  },
  {
   "cell_type": "code",
   "execution_count": 13,
   "metadata": {},
   "outputs": [
    {
     "data": {
      "text/html": [
       "<div class=\"tex2jax_ignore\" style=\"white-space: pre-wrap\">Заключенные ИК-2 рассказали, что <span style=\"padding: 2px; border-radius: 4px; border: 1px solid #ffcdd2; background: #ffebee\">Навального</span> привезли в <span style=\"padding: 2px; border-radius: 4px; border: 1px solid #ffcdd2; background: #ffebee\">колонию</span>. «<span style=\"padding: 2px; border-radius: 4px; border: 1px solid #ffcdd2; background: #ffebee\">Приемку этапа</span>» провели строго по <span style=\"padding: 2px; border-radius: 4px; border: 1px solid #ffcdd2; background: #ffebee\">правилам</span> <span style=\"padding: 2px; border-radius: 4px; border: 1px solid #ffcdd2; background: #ffebee\">внутреннего распорядка</span> и никого не били. Теперь заключенные опасаются, что <span style=\"padding: 2px; border-radius: 4px; border: 1px solid #ffcdd2; background: #ffebee\">из</span>-за <span style=\"padding: 2px; border-radius: 4px; border: 1px solid #ffcdd2; background: #ffebee\">Навального режим</span> ужесточат, а «<span style=\"padding: 2px; border-radius: 4px; border: 1px solid #ffcdd2; background: #ffebee\">жизнь</span> в <span style=\"padding: 2px; border-radius: 4px; border: 1px solid #ffcdd2; background: #ffebee\">заключении</span> наладилась».</div>"
      ],
      "text/plain": [
       "<IPython.core.display.HTML object>"
      ]
     },
     "metadata": {},
     "output_type": "display_data"
    }
   ],
   "source": [
    "show_matches(NP, text)"
   ]
  },
  {
   "cell_type": "code",
   "execution_count": 14,
   "metadata": {},
   "outputs": [
    {
     "data": {
      "text/plain": [
       "Match(\n",
       "    tokens=[MorphToken(\n",
       "         value='Навального',\n",
       "         span=[33, 43),\n",
       "         type='RU',\n",
       "         forms=[Form('навальный', Grams(ADJF,gent,masc,sing)),\n",
       "          Form('навальный', Grams(ADJF,accs,anim,masc,sing)),\n",
       "          Form('навальный', Grams(ADJF,gent,neut,sing)),\n",
       "          Form('навальный', Grams(NOUN,Sgtm,Surn,anim,gent,masc,sing)),\n",
       "          Form('навальный', Grams(NOUN,Sgtm,Surn,accs,anim,masc,sing))]\n",
       "     )],\n",
       "    span=[33, 43)\n",
       ")"
      ]
     },
     "metadata": {},
     "output_type": "display_data"
    },
    {
     "data": {
      "text/plain": [
       "Match(\n",
       "    tokens=[MorphToken(\n",
       "         value='колонию',\n",
       "         span=[55, 62),\n",
       "         type='RU',\n",
       "         forms=[Form('колония', Grams(NOUN,accs,femn,inan,sing))]\n",
       "     )],\n",
       "    span=[55, 62)\n",
       ")"
      ]
     },
     "metadata": {},
     "output_type": "display_data"
    },
    {
     "data": {
      "text/plain": [
       "Match(\n",
       "    tokens=[MorphToken(\n",
       "         value='Приемку',\n",
       "         span=[65, 72),\n",
       "         type='RU',\n",
       "         forms=[Form('приёмка', Grams(NOUN,accs,femn,inan,sing))]\n",
       "     ),\n",
       "     MorphToken(\n",
       "         value='этапа',\n",
       "         span=[73, 78),\n",
       "         type='RU',\n",
       "         forms=[Form('этап', Grams(NOUN,gent,inan,masc,sing))]\n",
       "     )],\n",
       "    span=[65, 78)\n",
       ")"
      ]
     },
     "metadata": {},
     "output_type": "display_data"
    },
    {
     "data": {
      "text/plain": [
       "Match(\n",
       "    tokens=[MorphToken(\n",
       "         value='правилам',\n",
       "         span=[98, 106),\n",
       "         type='RU',\n",
       "         forms=[Form('правило', Grams(NOUN,datv,inan,neut,plur))]\n",
       "     )],\n",
       "    span=[98, 106)\n",
       ")"
      ]
     },
     "metadata": {},
     "output_type": "display_data"
    },
    {
     "data": {
      "text/plain": [
       "Match(\n",
       "    tokens=[MorphToken(\n",
       "         value='внутреннего',\n",
       "         span=[107, 118),\n",
       "         type='RU',\n",
       "         forms=[Form('внутренний', Grams(ADJF,gent,masc,sing))]\n",
       "     ),\n",
       "     MorphToken(\n",
       "         value='распорядка',\n",
       "         span=[119, 129),\n",
       "         type='RU',\n",
       "         forms=[Form('распорядок', Grams(NOUN,gent,inan,masc,sing))]\n",
       "     )],\n",
       "    span=[107, 129)\n",
       ")"
      ]
     },
     "metadata": {},
     "output_type": "display_data"
    },
    {
     "data": {
      "text/plain": [
       "Match(\n",
       "    tokens=[MorphToken(\n",
       "         value='из',\n",
       "         span=[182, 184),\n",
       "         type='RU',\n",
       "         forms=[Form('из', Grams(PREP)),\n",
       "          Form('иза', Grams(NOUN,Name,anim,femn,gent,plur)),\n",
       "          Form('иза', Grams(NOUN,Name,accs,anim,femn,plur))]\n",
       "     )],\n",
       "    span=[182, 184)\n",
       ")"
      ]
     },
     "metadata": {},
     "output_type": "display_data"
    },
    {
     "data": {
      "text/plain": [
       "Match(\n",
       "    tokens=[MorphToken(\n",
       "         value='Навального',\n",
       "         span=[188, 198),\n",
       "         type='RU',\n",
       "         forms=[Form('навальный', Grams(ADJF,gent,masc,sing)),\n",
       "          Form('навальный', Grams(ADJF,accs,anim,masc,sing)),\n",
       "          Form('навальный', Grams(ADJF,gent,neut,sing)),\n",
       "          Form('навальный', Grams(NOUN,Sgtm,Surn,anim,gent,masc,sing)),\n",
       "          Form('навальный', Grams(NOUN,Sgtm,Surn,accs,anim,masc,sing))]\n",
       "     ),\n",
       "     MorphToken(\n",
       "         value='режим',\n",
       "         span=[199, 204),\n",
       "         type='RU',\n",
       "         forms=[Form('режим', Grams(NOUN,inan,masc,nomn,sing)),\n",
       "          Form('режим', Grams(NOUN,accs,inan,masc,sing))]\n",
       "     )],\n",
       "    span=[188, 204)\n",
       ")"
      ]
     },
     "metadata": {},
     "output_type": "display_data"
    },
    {
     "data": {
      "text/plain": [
       "Match(\n",
       "    tokens=[MorphToken(\n",
       "         value='жизнь',\n",
       "         span=[219, 224),\n",
       "         type='RU',\n",
       "         forms=[Form('жизнь', Grams(NOUN,accs,femn,inan,sing)),\n",
       "          Form('жизнь', Grams(NOUN,femn,inan,nomn,sing))]\n",
       "     )],\n",
       "    span=[219, 224)\n",
       ")"
      ]
     },
     "metadata": {},
     "output_type": "display_data"
    },
    {
     "data": {
      "text/plain": [
       "Match(\n",
       "    tokens=[MorphToken(\n",
       "         value='заключении',\n",
       "         span=[227, 237),\n",
       "         type='RU',\n",
       "         forms=[Form('заключение', Grams(NOUN,inan,loct,neut,sing))]\n",
       "     )],\n",
       "    span=[227, 237)\n",
       ")"
      ]
     },
     "metadata": {},
     "output_type": "display_data"
    }
   ],
   "source": [
    "parser = Parser(NP)\n",
    "matches = parser.findall(text)\n",
    "for match in matches:\n",
    "    display(match)"
   ]
  }
 ],
 "metadata": {
  "kernelspec": {
   "display_name": "aspirant",
   "language": "python",
   "name": "aspirant"
  },
  "language_info": {
   "codemirror_mode": {
    "name": "ipython",
    "version": 3
   },
   "file_extension": ".py",
   "mimetype": "text/x-python",
   "name": "python",
   "nbconvert_exporter": "python",
   "pygments_lexer": "ipython3",
   "version": "3.8.8"
  }
 },
 "nbformat": 4,
 "nbformat_minor": 5
}
