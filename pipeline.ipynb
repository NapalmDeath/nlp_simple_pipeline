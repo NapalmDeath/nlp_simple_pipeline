{
 "cells": [
  {
   "cell_type": "code",
   "execution_count": 382,
   "metadata": {},
   "outputs": [
    {
     "name": "stdout",
     "output_type": "stream",
     "text": [
      "load: ok\n"
     ]
    }
   ],
   "source": [
    "from navec import Navec\n",
    "from slovnet import NER\n",
    "from ipymarkup import show_span_box_markup as show_span_markup, show_ascii_markup as show_markup, show_dep_ascii_markup as show_dep_markup\n",
    "from slovnet import Morph, Syntax\n",
    "from razdel import sentenize, tokenize\n",
    "\n",
    "from yargy import Parser, rule, and_, not_\n",
    "from yargy.interpretation import fact\n",
    "from yargy.predicates import gram, tag, custom, type, in_\n",
    "from yargy.relations import gnc_relation\n",
    "from yargy.pipelines import morph_pipeline\n",
    "\n",
    "import pymorphy2\n",
    "\n",
    "pymorphy = pymorphy2.MorphAnalyzer(lang='ru')\n",
    "\n",
    "navec = Navec.load('./data/navec_news_v1_1B_250K_300d_100q.tar')\n",
    "\n",
    "ner = NER.load('./data/slovnet_ner_news_v1.tar')\n",
    "morph = Morph.load('./data/slovnet_morph_news_v1.tar', batch_size=4)\n",
    "syntax = Syntax.load('./data/slovnet_syntax_news_v1.tar')\n",
    "\n",
    "ner.navec(navec)\n",
    "morph.navec(navec)\n",
    "syntax.navec(navec)\n",
    "\n",
    "print(\"load: ok\")"
   ]
  },
  {
   "cell_type": "code",
   "execution_count": 383,
   "metadata": {},
   "outputs": [
    {
     "ename": "SyntaxError",
     "evalue": "EOF while scanning triple-quoted string literal (<ipython-input-383-d68eb32fd5e9>, line 15)",
     "output_type": "error",
     "traceback": [
      "\u001b[0;36m  File \u001b[0;32m\"<ipython-input-383-d68eb32fd5e9>\"\u001b[0;36m, line \u001b[0;32m15\u001b[0m\n\u001b[0;31m    В мае 2020 года Forbes писал, что в России больше 100 долларовых миллиардеров.\u001b[0m\n\u001b[0m                                                                                  \n^\u001b[0m\n\u001b[0;31mSyntaxError\u001b[0m\u001b[0;31m:\u001b[0m EOF while scanning triple-quoted string literal\n"
     ]
    }
   ],
   "source": [
    "source_txt =\"\"\"Совладельцы сети магазинов фиксированных низких цен Fix Price Артем Хачатрян и Сергей Ломакин стали долларовыми миллиардерами после выхода компании на IPO (первичное публичное размещение акций). Об этом свидетельствуют подсчеты Forbes.\n",
    "\n",
    "Журнал оценил состояние каждого из них в 3,4 миллиарда долларов. Bloomberg написал о 3,6 миллиарда.\n",
    "\n",
    "Fix Price разместила свои бумаги на Лондонской бирже по цене 9,75 доллара за штуку. Ломакину и Хачатряну до размещения принадлежало по 354 067 500 акций (41,66%) компаний, сейчас — по 301 151 876 акций (35,43%). Таким образом, в ходе IPO каждый из них продал по 52,9 миллиона акций, и заработал по 516 миллионов долларов, подсчитал Forbes.\n",
    "\n",
    "Ранее сеть Fix Price, бумаги которой с 10 марта 2021 года начнут торговаться на Лондонской и Московской биржах, сообщила, что привлечет в ходе IPO 2 миллиарда долларов.\n",
    "\n",
    "«Интерфакс» писал, что это крупнейшее IPO российской компании с 2010 года, когда «Русал» в рамках первичного публичного размещения акций привлек 2,24 миллиарда долларов.\n",
    "\n",
    "Первые магазины сети Fix Price были открыты в 2007 году. Сейчас у компании 4279 магазинов в России, Беларуси, Казахстане, Узбекистане, Кыргызстане, Грузии и Латвии. Вначале весь ассортимент в Fix Price продавался по 30 рублей за товар, сейчас товары там стоят не дороже 250 рублей.\n",
    "\n",
    "Артем Хачатрян и Сергей Ломакин в 1998 году стали сооснователями сети дискаунтеров «Копейка» (сейчас эти магазины известны под брендом «Пятерочка»). В 2007 году они продали свою долю корпорации «Уралсиб» за 220 миллионов долларов. Также Хачатрян и Ломакин инвестировали в сети «Модис» и «ЦентрОбувь».\n",
    "\n",
    "В мае 2020 года Forbes писал, что в России больше 100 долларовых миллиардеров."
   ]
  },
  {
   "cell_type": "code",
   "execution_count": 384,
   "metadata": {},
   "outputs": [],
   "source": [
    "class Token:\n",
    "    def __init__(self, token):\n",
    "        self.token = token\n",
    "        self.morph = None\n",
    "        self.syntax = None\n",
    "    \n",
    "    def set_morph(self, morph):\n",
    "        self.morph = morph\n",
    "        \n",
    "    def set_syntax(self, syntax):\n",
    "        self.syntax = syntax\n",
    "        \n",
    "    def __repr__(self):\n",
    "        return self.token\n",
    "\n",
    "class Sentence:\n",
    "    def __init__(self, sentence):\n",
    "        self.sentence = sentence\n",
    "        self.tokens = []\n",
    "        self.syntax_tree = [] \n",
    "\n",
    "        self.tokenize()\n",
    "        \n",
    "    @property\n",
    "    def words(self):\n",
    "        return list(map(str, self.tokens))\n",
    "\n",
    "    def tokenize(self):\n",
    "        self.tokens = [Token(_.text) for _ in tokenize(self.sentence)]\n",
    "        \n",
    "    def morph(self):\n",
    "        markup = morph(self.words)\n",
    "\n",
    "        for i, token in enumerate(markup.tokens):\n",
    "            self.tokens[i].set_morph(token)\n",
    "            \n",
    "    def syntax(self):\n",
    "        markup = syntax(self.words)\n",
    "\n",
    "        for i, token in enumerate(markup.tokens):\n",
    "            self.tokens[i].set_syntax(token)\n",
    "\n",
    "            source = int(token.head_id) - 1\n",
    "            target = int(token.id) - 1\n",
    "\n",
    "            if source > 0 and source != target:  # skip root, loops\n",
    "                self.syntax_tree.append([source, target, token.rel])\n",
    "                \n",
    "    def show_syntax(self):\n",
    "        if self.syntax_tree == []:\n",
    "            self.syntax()\n",
    "\n",
    "        show_dep_markup(self.words, self.syntax_tree)\n",
    "        \n",
    "    def __str__(self):\n",
    "        return self.sentence\n",
    "        \n",
    "    def __repr__(self):\n",
    "        s = ''\n",
    "        for tok in self.tokens:\n",
    "            s += '[{}] '.format(tok)\n",
    "        return s\n",
    "\n",
    "\n",
    "class Text:\n",
    "    def __init__(self, text):\n",
    "        self.text = text\n",
    "        self.sentences = []\n",
    "        \n",
    "        self.sentenize()\n",
    "        \n",
    "    def sentenize(self):\n",
    "        self.sentences = [Sentence(_.text) for _ in sentenize(self.text)]\n",
    "        \n",
    "    def morph_all_sentences(self):\n",
    "        for sent in self.sentences:\n",
    "            sent.morph()\n",
    "            \n",
    "    def syntax_all_sentences(self):\n",
    "        for sent in self.sentences:\n",
    "            sent.syntax()\n",
    "\n",
    "    def __str__(self):\n",
    "        return self.text\n",
    "        \n",
    "    def __repr__(self):\n",
    "        return '\\n\\n Sentence: '.join([str(sent) for sent in self.sentences])"
   ]
  },
  {
   "cell_type": "markdown",
   "metadata": {},
   "source": [
    "# Сегментация"
   ]
  },
  {
   "cell_type": "code",
   "execution_count": 385,
   "metadata": {},
   "outputs": [],
   "source": [
    "text = Text(source_txt)"
   ]
  },
  {
   "cell_type": "markdown",
   "metadata": {},
   "source": [
    "# Морфологический и синтаксический разбор "
   ]
  },
  {
   "cell_type": "code",
   "execution_count": 386,
   "metadata": {},
   "outputs": [],
   "source": [
    "text.morph_all_sentences()"
   ]
  },
  {
   "cell_type": "code",
   "execution_count": 387,
   "metadata": {},
   "outputs": [],
   "source": [
    "text.syntax_all_sentences()"
   ]
  },
  {
   "cell_type": "code",
   "execution_count": 388,
   "metadata": {},
   "outputs": [],
   "source": [
    "sentence = text.sentences[4]"
   ]
  },
  {
   "cell_type": "code",
   "execution_count": 389,
   "metadata": {},
   "outputs": [
    {
     "name": "stdout",
     "output_type": "stream",
     "text": [
      "        ┌► Fix        nsubj\n",
      "        │  Price      \n",
      "┌─┌─┌─┌─└─ разместила \n",
      "│ │ │ │ ┌► свои       det\n",
      "│ │ │ └►└─ бумаги     obj\n",
      "│ │ │ ┌──► на         case\n",
      "│ │ │ │ ┌► Лондонской amod\n",
      "│ │ └►└─└─ бирже      obl\n",
      "│ │     ┌► по         case\n",
      "│ └──►┌─└─ цене       obl\n",
      "│     │ ┌► 9,75       nummod\n",
      "│   ┌─└►└─ доллара    nmod\n",
      "│   │   ┌► за         case\n",
      "│   └──►└─ штуку      nmod\n",
      "└────────► .          punct\n"
     ]
    }
   ],
   "source": [
    "sentence.show_syntax()"
   ]
  },
  {
   "cell_type": "markdown",
   "metadata": {},
   "source": [
    "# Извлечение именованных сущностей"
   ]
  },
  {
   "cell_type": "code",
   "execution_count": 390,
   "metadata": {},
   "outputs": [],
   "source": [
    "markup = ner(sentence.sentence)"
   ]
  },
  {
   "cell_type": "code",
   "execution_count": 391,
   "metadata": {},
   "outputs": [
    {
     "data": {
      "text/html": [
       "<div class=\"tex2jax_ignore\" style=\"white-space: pre-wrap\"><span style=\"padding: 2px; border-radius: 4px; border: 1px solid #bbdefb; background: #e3f2fd\">Fix Price<span style=\"vertical-align: middle; margin-left: 2px; font-size: 0.7em; color: #64b5f6;\">ORG</span></span> разместила свои бумаги на <span style=\"padding: 2px; border-radius: 4px; border: 1px solid #bbdefb; background: #e3f2fd\">Лондонской бирже<span style=\"vertical-align: middle; margin-left: 2px; font-size: 0.7em; color: #64b5f6;\">ORG</span></span> по цене 9,75 доллара за штуку.</div>"
      ],
      "text/plain": [
       "<IPython.core.display.HTML object>"
      ]
     },
     "metadata": {},
     "output_type": "display_data"
    }
   ],
   "source": [
    "show_span_markup(markup.text, markup.spans)"
   ]
  },
  {
   "cell_type": "markdown",
   "metadata": {},
   "source": [
    "# Поиск словосочетаний"
   ]
  },
  {
   "cell_type": "code",
   "execution_count": 392,
   "metadata": {},
   "outputs": [],
   "source": [
    "def show_matches(rule, *lines):\n",
    "    parser = Parser(rule)\n",
    "    for line in lines:\n",
    "        matches = parser.findall(line)\n",
    "        matches = sorted(matches, key=lambda _: _.span)\n",
    "        spans = [_.span for _ in matches]\n",
    "        show_markup(line, spans)\n",
    "        if matches:\n",
    "            facts = [_.fact for _ in matches]\n",
    "            if len(facts) == 1:\n",
    "                facts = facts[0]\n",
    "            display(facts)"
   ]
  },
  {
   "cell_type": "code",
   "execution_count": 393,
   "metadata": {},
   "outputs": [],
   "source": [
    "def exact_gram(tag):\n",
    "    def check(v):\n",
    "        parse = pymorphy.parse(v)[0]\n",
    "        if not parse:\n",
    "            return False\n",
    "\n",
    "        return parse.tag.POS == tag\n",
    "    \n",
    "    return custom(check)\n",
    "\n",
    "INT = type('INT')\n",
    "NOUN = gram('NOUN')\n",
    "ADJF = gram('ADJF')\n",
    "ABBR = gram('Abbr')\n",
    "VERB = gram('VERB')\n",
    "PREP = gram('PREP')\n",
    "\n",
    "EQ_NOUN = exact_gram('NOUN')\n",
    "\n",
    "NUMBER = rule(\n",
    "    INT.optional(),\n",
    "    in_('.,').optional(),\n",
    "    INT\n",
    ")\n",
    "\n",
    "gnc = gnc_relation()"
   ]
  },
  {
   "cell_type": "code",
   "execution_count": 421,
   "metadata": {},
   "outputs": [],
   "source": [
    "NounPhrase = fact('NounPhrase', ['adj', 'noun'])\n",
    "\n",
    "NumberPhrase = fact('NumberPhrase', ['number', 'noun'])\n",
    "\n",
    "Fact = fact('Fact', ['value'])\n",
    "\n",
    "NounPhraseRule = rule(\n",
    "    ADJF.optional().repeatable().interpretation(\n",
    "        NounPhrase.adj.inflected()\n",
    "    ).match(gnc),\n",
    "\n",
    "    EQ_NOUN.repeatable().interpretation(\n",
    "        NounPhrase.noun.inflected()\n",
    "    ).match(gnc)\n",
    ").interpretation(NounPhrase).interpretation(Fact.value)\n",
    "\n",
    "NumberPhraseRule = rule(\n",
    "    NUMBER.interpretation(\n",
    "        NumberPhrase.number\n",
    "    ),\n",
    "    EQ_NOUN.interpretation(\n",
    "        NumberPhrase.noun\n",
    "    )\n",
    ").interpretation(NumberPhrase).interpretation(Fact.value)\n",
    "\n",
    "AllRules = rule(or_(\n",
    "    NumberPhraseRule,\n",
    "    NounPhraseRule\n",
    ")).interpretation(Fact)"
   ]
  },
  {
   "cell_type": "code",
   "execution_count": 422,
   "metadata": {
    "collapsed": true,
    "jupyter": {
     "outputs_hidden": true
    }
   },
   "outputs": [
    {
     "name": "stdout",
     "output_type": "stream",
     "text": [
      "Fix Price разместила свои бумаги на Лондонской бирже по цене 9,75 \n",
      "                     ───────────    ────────────────    ──── ─────\n",
      "доллара за штуку.\n",
      "───────    ───── \n"
     ]
    },
    {
     "data": {
      "text/plain": [
       "[Fact(\n",
       "     value=NounPhrase(\n",
       "         adj='свой',\n",
       "         noun='бумага'\n",
       "     )\n",
       " ),\n",
       " Fact(\n",
       "     value=NounPhrase(\n",
       "         adj='лондонская',\n",
       "         noun='биржа'\n",
       "     )\n",
       " ),\n",
       " Fact(\n",
       "     value=NounPhrase(\n",
       "         adj=None,\n",
       "         noun='цена'\n",
       "     )\n",
       " ),\n",
       " Fact(\n",
       "     value=NumberPhrase(\n",
       "         number='9,75',\n",
       "         noun='доллара'\n",
       "     )\n",
       " ),\n",
       " Fact(\n",
       "     value=NounPhrase(\n",
       "         adj=None,\n",
       "         noun='штука'\n",
       "     )\n",
       " )]"
      ]
     },
     "metadata": {},
     "output_type": "display_data"
    }
   ],
   "source": [
    "show_matches(AllRules, sentence.sentence)"
   ]
  },
  {
   "cell_type": "code",
   "execution_count": null,
   "metadata": {},
   "outputs": [],
   "source": []
  }
 ],
 "metadata": {
  "kernelspec": {
   "display_name": "aspirant",
   "language": "python",
   "name": "aspirant"
  },
  "language_info": {
   "codemirror_mode": {
    "name": "ipython",
    "version": 3
   },
   "file_extension": ".py",
   "mimetype": "text/x-python",
   "name": "python",
   "nbconvert_exporter": "python",
   "pygments_lexer": "ipython3",
   "version": "3.8.8"
  }
 },
 "nbformat": 4,
 "nbformat_minor": 4
}
